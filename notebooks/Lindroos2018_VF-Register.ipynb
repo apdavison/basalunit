{
 "cells": [
  {
   "cell_type": "markdown",
   "id": "05c74e9b-ec8c-4e01-bf32-fe51d1fe3830",
   "metadata": {},
   "source": [
    "# Quantitative Validation of dendritic and somatic excitability in medium spiny neurons, following Figure 2 of Lindroos et al. (2018).\n",
    "\n",
    "\n",
    "### - Tests dendritic excitability, by examining the local change in calcium concentration as a function of somatic distance, \n",
    "###   following a backpropagating action potential. Model output is compared against experimental data from Day et al. (2008).\n",
    "### Day, M., Wokosin, D., Plotkin, J. L., Tian, X., and Surmeier, D. J. (2008). Differential excitability and modulation of striatal medium spiny neuron dendrites. J. Neurosci. 28, 11603–11614. doi: 10.1523/JNEUROSCI.1840-08.2008\n",
    "\n",
    "\n",
    "### - Tests somatic excitability, by examining the firing-rate of the neuron as a function of the input current. Model output is\n",
    "### compared against experimental data from Planert et al. (2013). Eight F-I curves from that paper are considered in this test.\n",
    "### Planert H, Berger TK, Silberberg G (2013). Membrane properties of striatal direct and indirect pathway neurons in mouse and rat slices and their modulation by dopamine. PLoS ONE 8(3): e57054. doi:10.1371/journal.pone.0057054\n",
    "\n",
    "### - Validation results are associated to this model entry in the Model Catalog:\n",
    "### https://model-catalog.brainsimulation.eu/#model_id.7828848c-0cfb-4e35-99c7-6e1c3c560558"
   ]
  },
  {
   "cell_type": "markdown",
   "id": "00574a44-9737-4dd2-9b81-8aeda68c3c2c",
   "metadata": {
    "tags": []
   },
   "source": [
    "## Install the Python-client library for the Validation Service"
   ]
  },
  {
   "cell_type": "code",
   "execution_count": null,
   "id": "6ece58eb-2e60-4883-96e7-011bc1c1d389",
   "metadata": {},
   "outputs": [],
   "source": [
    "!pip uninstall -y hbp_validation_framework\n",
    "# !pip install hbp_validation_framework\n",
    "!pip install -U git+https://github.com/HumanBrainProject/hbp-validation-client"
   ]
  },
  {
   "cell_type": "markdown",
   "id": "069d4479-db15-43c4-ae8f-0573d764db0a",
   "metadata": {},
   "source": [
    "# Install some Python packages needed, including the validation test suite 'basalunit'"
   ]
  },
  {
   "cell_type": "code",
   "execution_count": null,
   "id": "b44eb0c7-acd4-4075-9fd9-44b9f1fb53d6",
   "metadata": {
    "tags": []
   },
   "outputs": [],
   "source": [
    "# %%script echo skipping\n",
    "\n",
    "!pip install -q sciunit\n",
    "!pip install -q bluepyopt\n",
    "!pip install -q snudda\n",
    "!pip install joblib\n",
    "!pip install neuron"
   ]
  },
  {
   "cell_type": "code",
   "execution_count": null,
   "id": "353ab8e2-2404-4767-b7b8-d109344099c8",
   "metadata": {
    "tags": []
   },
   "outputs": [],
   "source": [
    "!pip uninstall -y basalunit\n",
    "!pip install -q git+https://github.com/pedroernesto/basalunit"
   ]
  },
  {
   "cell_type": "markdown",
   "id": "31991e7d-ca16-46ce-9d6d-9e790effce56",
   "metadata": {},
   "source": [
    "## Download Lindroos et al.(2018) model and compile the NEURON code if needed"
   ]
  },
  {
   "cell_type": "code",
   "execution_count": null,
   "id": "4e6516d4-786d-4541-9d87-0c9e3caa9a8f",
   "metadata": {},
   "outputs": [],
   "source": [
    "import os\n",
    "\n",
    "# !git clone https://github.com/pedroernesto/237653 Model_Lindroos2018\n",
    "cwd = os.getcwd()\n",
    "model_dir = os.path.join(cwd, 'Model_Lindroos2018')\n",
    "\n",
    "# To compile the NEURON code, if needed\n",
    "'''\n",
    "os.chdir(model_dir)\n",
    "!rm -rf x86_64/\n",
    "!nrnivmodl\n",
    "os.chdir(cwd)\n",
    "'''"
   ]
  },
  {
   "cell_type": "markdown",
   "id": "d4b6e916-d726-43aa-af46-1cdaa74e9f56",
   "metadata": {},
   "source": [
    "# Load the model entry from Model Catalog. Create a model object with 'basalunit'."
   ]
  },
  {
   "cell_type": "code",
   "execution_count": null,
   "id": "b0f2c1db-32fe-4b0e-9e8d-51a02dd0ad6a",
   "metadata": {},
   "outputs": [],
   "source": [
    "from hbp_validation_framework import ModelCatalog, utils\n",
    "mc = ModelCatalog(username=\"pedroernesto\")\n",
    "model_alias = \"MSND1 full\"\n",
    "model_version = \"1.0\""
   ]
  },
  {
   "cell_type": "code",
   "execution_count": null,
   "id": "cfc2204a-0a46-4b17-867a-40f39951a45a",
   "metadata": {},
   "outputs": [],
   "source": [
    "from basalunit.utils import CellModel_Lindroos2018\n",
    "model = CellModel_Lindroos2018(model_path=model_dir)\n",
    "model.model_alias = model_alias\n",
    "model.model_version = model_version"
   ]
  },
  {
   "cell_type": "markdown",
   "id": "d1bbcf36-ccc3-4b73-8b74-f3db495c6710",
   "metadata": {
    "tags": []
   },
   "source": [
    "# Check out first the execution of test for Dendritic Excitability"
   ]
  },
  {
   "cell_type": "code",
   "execution_count": null,
   "id": "e3d64baf-729f-426d-86f2-b778c28c0f42",
   "metadata": {},
   "outputs": [],
   "source": [
    "from basalunit.tests.test_dendriticExcitability import DendriticExcitability_Test\n",
    "base_directory = os.path.join(model_dir, './validation_results/DendriticExcitability_Test')\n",
    "test = DendriticExcitability_Test(model_path=model_dir, base_directory=base_directory)\n",
    "\n",
    "prediction = test.generate_prediction(model)\n",
    "observation = test.observation\n",
    "\n",
    "test.compute_score(observation,prediction)"
   ]
  },
  {
   "cell_type": "markdown",
   "id": "7e534d03-9dd9-4f72-9503-c4599e5c96cf",
   "metadata": {},
   "source": [
    "### Running now the test and registering the results on the Model Catalog"
   ]
  },
  {
   "cell_type": "code",
   "execution_count": null,
   "id": "f13782ba-a431-4c4d-bb19-fde2bb637f6a",
   "metadata": {},
   "outputs": [],
   "source": [
    "test_alias = \"MSND1_dendritic_excitability\"\n",
    "result, score = utils.run_test(username=\"pedroernesto\", \n",
    "                               model=model, \n",
    "                               test_alias=test_alias, \n",
    "                               storage_collab_id=\"basal-ganglia-validation\",\n",
    "                               register_result=False)\n",
    "# print(result[\"id\"] if result else None)\n",
    "print(\"https://model-catalog.brainsimulation.eu/#result_id.\" + result[\"id\"] if result else None)\n",
    "print(score)\n",
    "\n",
    "print(\"====================== Completed ======================\")"
   ]
  },
  {
   "cell_type": "markdown",
   "id": "77b9f601-5b7f-4d87-bd2e-d4d68da08feb",
   "metadata": {},
   "source": [
    "# Check out first the execution of test for Somatic Excitability"
   ]
  },
  {
   "cell_type": "code",
   "execution_count": null,
   "id": "c94ae50c-340e-40e0-9717-6a6c8bdd6dc9",
   "metadata": {},
   "outputs": [],
   "source": [
    "from basalunit.tests.test_somaticExcitability import SomaticExcitability_Test\n",
    "base_directory = os.path.join(model_dir, './validation_results/SomaticExcitability_Test')\n",
    "test = SomaticExcitability_Test(model_path=model_dir, base_directory=base_directory)\n",
    "\n",
    "prediction = test.generate_prediction(model)\n",
    "observation = test.observation\n",
    "\n",
    "test.compute_score(observation,prediction)"
   ]
  },
  {
   "cell_type": "markdown",
   "id": "57ef7fcb-94a2-4a66-a6e1-df38cfe10bda",
   "metadata": {},
   "source": [
    "### Running now the test against 8 experimental data, and registering the results on the Model Catalog"
   ]
  },
  {
   "cell_type": "code",
   "execution_count": null,
   "id": "f1dda42e-8978-4131-baa7-7b6a5dce1959",
   "metadata": {},
   "outputs": [],
   "source": [
    "for i in range(1,9):\n",
    "    \n",
    "    test_alias = \"MSND1_somatic_excitability_Planert2013-D1-FI-trace\" + str(i)\n",
    "    result, score = utils.run_test(username=\"pedroernesto\", \n",
    "                                   model=model, \n",
    "                                   test_alias=test_alias, \n",
    "                                   storage_collab_id=\"basal-ganglia-validation\",\n",
    "                                   register_result=False)\n",
    "    # print(result[\"id\"] if result else None)\n",
    "    print(\"https://model-catalog.brainsimulation.eu/#result_id.\" + result[\"id\"] if result else None)\n",
    "    print(score)\n",
    "\n",
    "    print(\"====================== Completed ======================\")"
   ]
  }
 ],
 "metadata": {
  "kernelspec": {
   "display_name": "CircuitModels",
   "language": "python",
   "name": "circuitmodels"
  },
  "language_info": {
   "codemirror_mode": {
    "name": "ipython",
    "version": 3
   },
   "file_extension": ".py",
   "mimetype": "text/x-python",
   "name": "python",
   "nbconvert_exporter": "python",
   "pygments_lexer": "ipython3",
   "version": "3.7.11"
  }
 },
 "nbformat": 4,
 "nbformat_minor": 5
}
